{
 "cells": [
  {
   "cell_type": "code",
   "execution_count": 1,
   "metadata": {},
   "outputs": [],
   "source": [
    "%matplotlib inline\n",
    "import matplotlib.pyplot as plt\n",
    "import seaborn as sns\n",
    "import numpy as np\n",
    "import pymc3 as pm\n",
    "import pandas as pd\n",
    "import theano\n",
    "import os\n",
    "import time\n",
    "\n",
    "import itertools\n",
    "from sklearn.preprocessing import LabelEncoder\n",
    "#from statsmodels.formula.api import ols\n",
    "\n"
   ]
  },
  {
   "cell_type": "code",
   "execution_count": 2,
   "metadata": {},
   "outputs": [],
   "source": [
    "pd.options.mode.chained_assignment = None  # default='warn'"
   ]
  },
  {
   "cell_type": "code",
   "execution_count": 3,
   "metadata": {
    "scrolled": true
   },
   "outputs": [],
   "source": [
    "# Configuration parameter\n",
    "slct_retailer = 'Lenta'\n",
    "#slct_category = 'CHOCO'\n",
    "slct_vendor = 'Mars'\n",
    "start_date ='2017-12-31'#  \n",
    "end_date = '2020-09-27' #\n",
    "\n",
    "\n",
    "\n"
   ]
  },
  {
   "cell_type": "code",
   "execution_count": 4,
   "metadata": {},
   "outputs": [
    {
     "data": {
      "text/plain": [
       "'/mnt/c/Users/omprakash.bankol/Desktop/MARS_Russia/Sprint 2/Model_Results/ADS_Creation_v2'"
      ]
     },
     "execution_count": 4,
     "metadata": {},
     "output_type": "execute_result"
    }
   ],
   "source": [
    "#Set up directory (Make sure active directory is '/ADS_Creation/Code')\n",
    "path=os.getcwd()\n",
    "to_current=os.path.dirname(os.getcwd())\n",
    "os.chdir(to_current)\n",
    "parent_dir=os.path.dirname(os.getcwd())\n",
    "parent_dir"
   ]
  },
  {
   "cell_type": "code",
   "execution_count": 5,
   "metadata": {},
   "outputs": [
    {
     "data": {
      "text/plain": [
       "'/mnt/c/Users/omprakash.bankol/Desktop/MARS_Russia/Sprint 2/Model_Results/ADS_Creation_v2/Code'"
      ]
     },
     "execution_count": 5,
     "metadata": {},
     "output_type": "execute_result"
    }
   ],
   "source": [
    "%pwd"
   ]
  },
  {
   "cell_type": "code",
   "execution_count": 6,
   "metadata": {},
   "outputs": [
    {
     "name": "stdout",
     "output_type": "stream",
     "text": [
      "/mnt/c/Users/omprakash.bankol/Desktop/MARS_Russia/Sprint 2/Model_Results/ADS_Creation_v2/Modelling_Data/Lenta\n",
      "(63312, 98)\n"
     ]
    }
   ],
   "source": [
    "#Read data\n",
    "path=os.path.join(parent_dir,'Modelling_Data',slct_retailer)\n",
    "print(path)\n",
    "ppg_sales_df =pd.read_csv(path+'/ppg_modelling_data.csv',low_memory=False)\n",
    "print(ppg_sales_df.shape)\n",
    "\n"
   ]
  },
  {
   "cell_type": "code",
   "execution_count": 7,
   "metadata": {},
   "outputs": [
    {
     "name": "stdout",
     "output_type": "stream",
     "text": [
      "Date Range: 2016-01-03 - 2020-12-27\n"
     ]
    }
   ],
   "source": [
    "ppg_sales_df['Date'].head()\n",
    "ppg_sales_df['Date']=pd.to_datetime(ppg_sales_df['Date'],format=\"%Y-%m-%d\")\n",
    "print(\"Date Range: {} - {}\".format(ppg_sales_df[\"Date\"].dt.date.min(), ppg_sales_df[\"Date\"].dt.date.max()))\n",
    "filtered_ppg_sales_df = ppg_sales_df.query(\"Date>=@start_date & Date<@end_date\")"
   ]
  },
  {
   "cell_type": "code",
   "execution_count": null,
   "metadata": {},
   "outputs": [],
   "source": []
  },
  {
   "cell_type": "code",
   "execution_count": 8,
   "metadata": {},
   "outputs": [],
   "source": [
    "#Modelling PPGs \n",
    "ppg_list=filtered_ppg_sales_df[\"PPG_Description\"].unique()\n",
    "ppg_list=['A.Korkunov 110g','A.Korkunov 192g','Big Bars','Loose','M&M 360g','M&M 45g','MW Std',\n",
    "          'Snickers Crisp Trio','Std Bars','Orbit OTC', 'Orbit XXL']\n",
    "filtered_ppg_sales_df=filtered_ppg_sales_df[filtered_ppg_sales_df['PPG_Description'].isin(ppg_list)].reset_index(drop=True)"
   ]
  },
  {
   "cell_type": "code",
   "execution_count": 9,
   "metadata": {},
   "outputs": [
    {
     "data": {
      "text/plain": [
       "array(['M&M 360g', 'M&M 45g', 'A.Korkunov 110g', 'A.Korkunov 192g',\n",
       "       'Big Bars', 'MW Std', 'Snickers Crisp Trio', 'Std Bars', 'Loose',\n",
       "       'Orbit OTC', 'Orbit XXL'], dtype=object)"
      ]
     },
     "execution_count": 9,
     "metadata": {},
     "output_type": "execute_result"
    }
   ],
   "source": [
    "filtered_ppg_sales_df[\"PPG_Description\"].unique()#std"
   ]
  },
  {
   "cell_type": "code",
   "execution_count": null,
   "metadata": {},
   "outputs": [],
   "source": []
  },
  {
   "cell_type": "code",
   "execution_count": 10,
   "metadata": {},
   "outputs": [
    {
     "name": "stdout",
     "output_type": "stream",
     "text": [
      "(1573, 12)\n"
     ]
    }
   ],
   "source": [
    "# Select columns in model df\n",
    "cols_in_model_df = [\"PPG_Segment\",\"PPG_MFG\",\"PPG_Item_No\",\"PPG_Description\",\"Date\", \n",
    "                    \"wk_sold_median_base_price_byppg_log\",\"tpr_discount_byppg\",\"ACV_Selling\",\"SI\",\n",
    "                    \"Catalogue_Dist\",\"wk_sold_qty_byppg_log\",\"wk_sold_qty_byppg\"]\n",
    "model_base_data=filtered_ppg_sales_df[cols_in_model_df]\n",
    "model_base_data.reset_index(drop=True,inplace=True)\n",
    "print(model_base_data.shape)"
   ]
  },
  {
   "cell_type": "code",
   "execution_count": null,
   "metadata": {},
   "outputs": [],
   "source": []
  },
  {
   "cell_type": "markdown",
   "metadata": {},
   "source": [
    "The Empirical Rule states that 95% of data observed following a normal distribution lies within 2 standard deviations of the mean."
   ]
  },
  {
   "cell_type": "code",
   "execution_count": 13,
   "metadata": {},
   "outputs": [
    {
     "data": {
      "image/png": "[encoded data removed]",
      "text/plain": [
       "<Figure size 432x288 with 1 Axes>"
      ]
     },
     "metadata": {
      "needs_background": "light"
     },
     "output_type": "display_data"
    }
   ],
   "source": [
    "#rough\n",
    "#\n",
    "mu, sigma = -1, 1.5 # mean and standard deviation (-4 to 2)\n",
    "s = np.random.normal(mu, sigma, 1000)\n",
    "import matplotlib.pyplot as plt\n",
    "count, bins, ignored = plt.hist(s, 30, density=True)\n",
    "plt.plot(bins, 1/(sigma * np.sqrt(2 * np.pi)) *\n",
    "               np.exp( - (bins - mu)**2 / (2 * sigma**2) ),\n",
    "         linewidth=2, color='r')\n",
    "plt.show()"
   ]
  },
  {
   "cell_type": "code",
   "execution_count": 17,
   "metadata": {},
   "outputs": [
    {
     "name": "stdout",
     "output_type": "stream",
     "text": [
      "actual mean 0.02000000000000001\n",
      "actual variance 1.0000000000000013\n",
      "data mean 0.01986334164438529\n",
      "data var 0.693236721404159\n"
     ]
    }
   ],
   "source": [
    "#rough\n",
    "mu=-7.824245970866955\n",
    "sigma=2.7972211086858363\n",
    "y = np.random.lognormal(mu,sigma,10000000)\n",
    "\n",
    "actual_mean=np.exp(mu+(sigma**2)/2)\n",
    "actual_var=(np.exp(sigma**2)-1)*(np.exp(2*mu+sigma**2))\n",
    "print('actual mean',actual_mean)\n",
    "print('actual variance',actual_var)\n",
    "print('data mean',np.mean(y))\n",
    "print('data var',np.var(y))"
   ]
  },
  {
   "cell_type": "code",
   "execution_count": 13,
   "metadata": {},
   "outputs": [],
   "source": [
    "def mu_sigma(actual_mean,actual_var):   \n",
    "    #actual_mean & actual_var must be positive\n",
    "    mu=np.log(actual_mean**2/(np.sqrt(actual_mean**2+actual_var)))\n",
    "    sigma=np.sqrt(np.log(actual_var/actual_mean**2+1)) #std dev\n",
    "    return (mu,sigma)"
   ]
  },
  {
   "cell_type": "code",
   "execution_count": 15,
   "metadata": {},
   "outputs": [
    {
     "data": {
      "text/plain": [
       "(-7.824245970866955, 2.7972211086858363)"
      ]
     },
     "execution_count": 15,
     "metadata": {},
     "output_type": "execute_result"
    }
   ],
   "source": [
    "# prior: tpr ,mean 2%, sd 1\n",
    "mu_sigma(0.02,1)"
   ]
  },
  {
   "cell_type": "code",
   "execution_count": null,
   "metadata": {},
   "outputs": [],
   "source": []
  },
  {
   "cell_type": "markdown",
   "metadata": {},
   "source": []
  },
  {
   "cell_type": "markdown",
   "metadata": {},
   "source": [
    "# Hierarchical bayesian model/Partial pooling\n",
    "\n",
    "We will perform bayesian hierarchical modeling using PyMC3. We will construct hyper priors on our group level parameters to allow the model to share ppg level coefficients among the groups withing the data. The model can be represented as:\n",
    "\n",
    "$$ y_i = \\alpha_{ji} + \\beta_{ji}x_i + \\epsilon_i $$\n",
    "\n",
    "or in probabilistic notation:\n",
    "\n",
    "$$ y \\sim N(\\alpha_{j} + \\beta_{j}x, \\epsilon) $$\n",
    "\n",
    "where j is the PPG Item index.\n",
    "\n",
    "For this model we will use a random slope and intercept, meaning both of them will have an hyper prior on them. "
   ]
  },
  {
   "cell_type": "code",
   "execution_count": 17,
   "metadata": {},
   "outputs": [],
   "source": [
    "sch_le = LabelEncoder()\n",
    "tmp_map=model_base_data[['PPG_Item_No','PPG_Description']].drop_duplicates().reset_index(drop=True)\n",
    "tmp_map['Encoding_PPG']=sch_le.fit_transform((tmp_map['PPG_Item_No']))\n",
    "ppg_item = sch_le.fit_transform(model_base_data['PPG_Item_No'])\n",
    "n_ppgs = len(sch_le.classes_)\n"
   ]
  },
  {
   "cell_type": "code",
   "execution_count": 18,
   "metadata": {},
   "outputs": [],
   "source": [
    "#prior setup LogNormal\n",
    "\n",
    "#reverse\n",
    "rev=1\n",
    "reverse_col=['wk_sold_median_base_price_byppg_log']\n",
    "model_base_data[reverse_col]=(-1)*model_base_data[reverse_col]\n",
    "\n",
    "SEED = 42\n",
    "np.random.seed(SEED)\n",
    "\n",
    "with pm.Model() as model:    \n",
    "    # Hyperpriors for group nodes/PPGs\n",
    "    mu_a = pm.Lognormal('mu_a', mu=mu_sigma(8,1000)[0], sigma=mu_sigma(8,1000)[1]) #intercept #10 #mu_sigma(-1.5,2)\n",
    "    sigma_a = pm.HalfNormal('sigma_a', 10)\n",
    "    \n",
    "    mu_b = pm.Lognormal('mu_b', mu=mu_sigma(1,100)[0], sigma=mu_sigma(1,100)[1]) #price  #(1.5,1)\n",
    "    sigma_b = pm.HalfNormal('sigma_b', 10) #5\n",
    "    \n",
    "    mu_c = pm.Lognormal('mu_c', mu=mu_sigma(0.026,1000)[0], sigma=mu_sigma(0.026,1000)[1]) #tpr???\n",
    "    sigma_c = pm.HalfNormal('sigma_c', 10)\n",
    "    \n",
    "    mu_d = pm.Lognormal('mu_d', mu=mu_sigma(0.047,1000)[0], sigma=mu_sigma(0.047,1000)[1]) #acv ()acv is in range of 100\n",
    "    sigma_d = pm.HalfNormal('sigma_d', 10)\n",
    "    \n",
    "    mu_e = pm.Lognormal('mu_e', mu=mu_sigma(0.39,1000)[0], sigma=mu_sigma(0.39,1000)[1]) #SI\n",
    "    sigma_e = pm.HalfNormal('sigma_e', 10) #10\n",
    "    \n",
    "    mu_f = pm.Lognormal('mu_f', mu=mu_sigma(0.18,1000)[0], sigma=mu_sigma(0.18,1000)[1]) #cat\n",
    "    sigma_f = pm.HalfNormal('sigma_f', 10)\n",
    "    \n",
    "    # Intercept\n",
    "    Intercept = pm.Lognormal('Intercept', mu=mu_a, sigma=sigma_a, shape=n_ppgs)\n",
    "    # price\n",
    "    wk_sold_median_base_price_byppg_log = pm.Lognormal('wk_sold_median_base_price_byppg_log', mu=mu_b, sigma=sigma_b, shape=n_ppgs)\n",
    "    #tpr\n",
    "    tpr_discount_byppg = pm.Lognormal('tpr_discount_byppg', mu=mu_c, sigma=sigma_c, shape=n_ppgs)\n",
    "    #acv\n",
    "    ACV_Selling = pm.Lognormal('ACV_Selling', mu=mu_d, sigma=sigma_d, shape=n_ppgs)\n",
    "    #SI\n",
    "    SI = pm.Lognormal('SI', mu=mu_e, sigma=sigma_e, shape=n_ppgs)\n",
    "    #catalogue\n",
    "    Catalogue_Dist = pm.Lognormal('Catalogue_Dist', mu=mu_f, sigma=sigma_f, shape=n_ppgs)\n",
    "    \n",
    "    \n",
    "    # Model error\n",
    "    eps = pm.HalfCauchy('eps', 5)\n",
    "    \n",
    "    y_hat = (Intercept[ppg_item] + wk_sold_median_base_price_byppg_log[ppg_item] * model_base_data.wk_sold_median_base_price_byppg_log \n",
    "             +tpr_discount_byppg[ppg_item] * model_base_data.tpr_discount_byppg\n",
    "             + ACV_Selling[ppg_item] *model_base_data.ACV_Selling+ SI[ppg_item] *model_base_data.SI+\n",
    "              Catalogue_Dist[ppg_item] *model_base_data.Catalogue_Dist)\n",
    "    \n",
    "    \n",
    "    # Likelihood\n",
    "    y_like = pm.Normal('y_like', mu=y_hat,sigma=eps, observed=model_base_data.wk_sold_qty_byppg_log)"
   ]
  },
  {
   "cell_type": "markdown",
   "metadata": {},
   "source": [
    "Let's run inference with NUTS sampler for the model above"
   ]
  },
  {
   "cell_type": "code",
   "execution_count": 19,
   "metadata": {},
   "outputs": [
    {
     "name": "stderr",
     "output_type": "stream",
     "text": [
      "Auto-assigning NUTS sampler...\n",
      "Initializing NUTS using jitter+adapt_diag...\n",
      "Multiprocess sampling (2 chains in 2 jobs)\n",
      "NUTS: [eps, Catalogue_Dist, SI, ACV_Selling, tpr_discount_byppg, wk_sold_median_base_price_byppg_log, Intercept, sigma_f, mu_f, sigma_e, mu_e, sigma_d, mu_d, sigma_c, mu_c, sigma_b, mu_b, sigma_a, mu_a]\n"
     ]
    },
    {
     "data": {
      "text/html": [
       "\n",
       "    <div>\n",
       "        <style>\n",
       "            /* Turns off some styling */\n",
       "            progress {\n",
       "                /* gets rid of default border in Firefox and Opera. */\n",
       "                border: none;\n",
       "                /* Needs to be in here for Safari polyfill so background images work as expected. */\n",
       "                background-size: auto;\n",
       "            }\n",
       "            .progress-bar-interrupted, .progress-bar-interrupted::-webkit-progress-bar {\n",
       "                background: #F44336;\n",
       "            }\n",
       "        </style>\n",
       "      <progress value='24000' class='' max='24000' style='width:300px; height:20px; vertical-align: middle;'></progress>\n",
       "      100.00% [24000/24000 1:05:09<00:00 Sampling 2 chains, 16,547 divergences]\n",
       "    </div>\n",
       "    "
      ],
      "text/plain": [
       "<IPython.core.display.HTML object>"
      ]
     },
     "metadata": {},
     "output_type": "display_data"
    },
    {
     "name": "stderr",
     "output_type": "stream",
     "text": [
      "Sampling 2 chains for 2_000 tune and 10_000 draw iterations (4_000 + 20_000 draws total) took 3912 seconds.\n",
      "There were 6922 divergences after tuning. Increase `target_accept` or reparameterize.\n",
      "The acceptance probability does not match the target. It is 0.6247265052900972, but should be close to 0.8. Try to increase the number of tuning steps.\n",
      "There were 9625 divergences after tuning. Increase `target_accept` or reparameterize.\n",
      "The acceptance probability does not match the target. It is 0.23533934352207284, but should be close to 0.8. Try to increase the number of tuning steps.\n",
      "The rhat statistic is larger than 1.4 for some parameters. The sampler did not converge.\n",
      "The estimated number of effective samples is smaller than 200 for some parameters.\n"
     ]
    },
    {
     "name": "stdout",
     "output_type": "stream",
     "text": [
      "Runtime of the program is 66.11511919498443 min\n"
     ]
    }
   ],
   "source": [
    "# Sampling\n",
    "start = time.time()\n",
    "\n",
    "with model:\n",
    "    step = pm.NUTS()\n",
    "    trace = pm.sample(10000, tune=2000,random_seed=SEED)\n",
    "\n",
    "end = time.time()\n",
    "print(f\"Runtime of the program is {(end - start)/60} min\") #3 models rhat==1, 10% divergences"
   ]
  },
  {
   "cell_type": "code",
   "execution_count": 20,
   "metadata": {},
   "outputs": [
    {
     "name": "stderr",
     "output_type": "stream",
     "text": [
      "/home/tiger0102/anaconda3/envs/ta-lib-dev/lib/python3.8/site-packages/arviz/data/io_pymc3.py:87: FutureWarning: Using `from_pymc3` without the model will be deprecated in a future release. Not using the model will return less accurate and less useful results. Make sure you use the model argument or call from_pymc3 within a model context.\n",
      "  warnings.warn(\n"
     ]
    }
   ],
   "source": [
    "result=pm.summary(trace)\n",
    "result.reset_index(drop=False,inplace=True)"
   ]
  },
  {
   "cell_type": "code",
   "execution_count": 21,
   "metadata": {},
   "outputs": [
    {
     "data": {
      "text/html": [
       "<div>\n",
       "<style scoped>\n",
       "    .dataframe tbody tr th:only-of-type {\n",
       "        vertical-align: middle;\n",
       "    }\n",
       "\n",
       "    .dataframe tbody tr th {\n",
       "        vertical-align: top;\n",
       "    }\n",
       "\n",
       "    .dataframe thead th {\n",
       "        text-align: right;\n",
       "    }\n",
       "</style>\n",
       "<table border=\"1\" class=\"dataframe\">\n",
       "  <thead>\n",
       "    <tr style=\"text-align: right;\">\n",
       "      <th></th>\n",
       "      <th>index</th>\n",
       "      <th>mean</th>\n",
       "      <th>sd</th>\n",
       "      <th>hdi_3%</th>\n",
       "      <th>hdi_97%</th>\n",
       "      <th>mcse_mean</th>\n",
       "      <th>mcse_sd</th>\n",
       "      <th>ess_mean</th>\n",
       "      <th>ess_sd</th>\n",
       "      <th>ess_bulk</th>\n",
       "      <th>ess_tail</th>\n",
       "      <th>r_hat</th>\n",
       "    </tr>\n",
       "  </thead>\n",
       "  <tbody>\n",
       "    <tr>\n",
       "      <th>0</th>\n",
       "      <td>mu_a</td>\n",
       "      <td>2.199000e+00</td>\n",
       "      <td>1.080000e-01</td>\n",
       "      <td>1.957</td>\n",
       "      <td>2.371000e+00</td>\n",
       "      <td>2.800000e-02</td>\n",
       "      <td>2.000000e-02</td>\n",
       "      <td>15.0</td>\n",
       "      <td>15.0</td>\n",
       "      <td>21.0</td>\n",
       "      <td>82.0</td>\n",
       "      <td>1.34</td>\n",
       "    </tr>\n",
       "    <tr>\n",
       "      <th>1</th>\n",
       "      <td>sigma_a</td>\n",
       "      <td>3.660000e-01</td>\n",
       "      <td>1.180000e-01</td>\n",
       "      <td>0.246</td>\n",
       "      <td>5.430000e-01</td>\n",
       "      <td>6.100000e-02</td>\n",
       "      <td>4.700000e-02</td>\n",
       "      <td>4.0</td>\n",
       "      <td>4.0</td>\n",
       "      <td>3.0</td>\n",
       "      <td>17.0</td>\n",
       "      <td>1.73</td>\n",
       "    </tr>\n",
       "    <tr>\n",
       "      <th>2</th>\n",
       "      <td>mu_b</td>\n",
       "      <td>6.900000e-02</td>\n",
       "      <td>8.200000e-02</td>\n",
       "      <td>0.000</td>\n",
       "      <td>1.630000e-01</td>\n",
       "      <td>4.000000e-03</td>\n",
       "      <td>3.000000e-03</td>\n",
       "      <td>481.0</td>\n",
       "      <td>481.0</td>\n",
       "      <td>21.0</td>\n",
       "      <td>59.0</td>\n",
       "      <td>1.27</td>\n",
       "    </tr>\n",
       "    <tr>\n",
       "      <th>3</th>\n",
       "      <td>sigma_b</td>\n",
       "      <td>3.320000e+00</td>\n",
       "      <td>1.257000e+00</td>\n",
       "      <td>1.225</td>\n",
       "      <td>4.621000e+00</td>\n",
       "      <td>5.720000e-01</td>\n",
       "      <td>4.320000e-01</td>\n",
       "      <td>5.0</td>\n",
       "      <td>5.0</td>\n",
       "      <td>5.0</td>\n",
       "      <td>172.0</td>\n",
       "      <td>1.32</td>\n",
       "    </tr>\n",
       "    <tr>\n",
       "      <th>4</th>\n",
       "      <td>mu_c</td>\n",
       "      <td>1.000000e-03</td>\n",
       "      <td>1.200000e-02</td>\n",
       "      <td>0.000</td>\n",
       "      <td>1.000000e-03</td>\n",
       "      <td>0.000000e+00</td>\n",
       "      <td>0.000000e+00</td>\n",
       "      <td>10121.0</td>\n",
       "      <td>10121.0</td>\n",
       "      <td>7.0</td>\n",
       "      <td>76.0</td>\n",
       "      <td>1.22</td>\n",
       "    </tr>\n",
       "    <tr>\n",
       "      <th>...</th>\n",
       "      <td>...</td>\n",
       "      <td>...</td>\n",
       "      <td>...</td>\n",
       "      <td>...</td>\n",
       "      <td>...</td>\n",
       "      <td>...</td>\n",
       "      <td>...</td>\n",
       "      <td>...</td>\n",
       "      <td>...</td>\n",
       "      <td>...</td>\n",
       "      <td>...</td>\n",
       "      <td>...</td>\n",
       "    </tr>\n",
       "    <tr>\n",
       "      <th>74</th>\n",
       "      <td>Catalogue_Dist[7]</td>\n",
       "      <td>2.138945e+15</td>\n",
       "      <td>2.489190e+17</td>\n",
       "      <td>0.000</td>\n",
       "      <td>3.177711e+03</td>\n",
       "      <td>2.052135e+15</td>\n",
       "      <td>1.451107e+15</td>\n",
       "      <td>14713.0</td>\n",
       "      <td>14713.0</td>\n",
       "      <td>9.0</td>\n",
       "      <td>38.0</td>\n",
       "      <td>1.22</td>\n",
       "    </tr>\n",
       "    <tr>\n",
       "      <th>75</th>\n",
       "      <td>Catalogue_Dist[8]</td>\n",
       "      <td>8.484262e+11</td>\n",
       "      <td>8.972455e+13</td>\n",
       "      <td>0.000</td>\n",
       "      <td>2.788712e+07</td>\n",
       "      <td>6.547557e+11</td>\n",
       "      <td>4.629894e+11</td>\n",
       "      <td>18779.0</td>\n",
       "      <td>18779.0</td>\n",
       "      <td>4.0</td>\n",
       "      <td>28.0</td>\n",
       "      <td>1.41</td>\n",
       "    </tr>\n",
       "    <tr>\n",
       "      <th>76</th>\n",
       "      <td>Catalogue_Dist[9]</td>\n",
       "      <td>3.500000e-02</td>\n",
       "      <td>5.600000e-02</td>\n",
       "      <td>0.000</td>\n",
       "      <td>1.500000e-01</td>\n",
       "      <td>7.000000e-03</td>\n",
       "      <td>6.000000e-03</td>\n",
       "      <td>58.0</td>\n",
       "      <td>52.0</td>\n",
       "      <td>27.0</td>\n",
       "      <td>53.0</td>\n",
       "      <td>1.17</td>\n",
       "    </tr>\n",
       "    <tr>\n",
       "      <th>77</th>\n",
       "      <td>Catalogue_Dist[10]</td>\n",
       "      <td>5.370000e-01</td>\n",
       "      <td>3.300000e-01</td>\n",
       "      <td>0.000</td>\n",
       "      <td>9.740000e-01</td>\n",
       "      <td>1.530000e-01</td>\n",
       "      <td>1.150000e-01</td>\n",
       "      <td>5.0</td>\n",
       "      <td>5.0</td>\n",
       "      <td>5.0</td>\n",
       "      <td>25.0</td>\n",
       "      <td>1.30</td>\n",
       "    </tr>\n",
       "    <tr>\n",
       "      <th>78</th>\n",
       "      <td>eps</td>\n",
       "      <td>4.130000e-01</td>\n",
       "      <td>1.100000e-02</td>\n",
       "      <td>0.402</td>\n",
       "      <td>4.340000e-01</td>\n",
       "      <td>6.000000e-03</td>\n",
       "      <td>4.000000e-03</td>\n",
       "      <td>3.0</td>\n",
       "      <td>3.0</td>\n",
       "      <td>4.0</td>\n",
       "      <td>18.0</td>\n",
       "      <td>1.51</td>\n",
       "    </tr>\n",
       "  </tbody>\n",
       "</table>\n",
       "<p>79 rows × 12 columns</p>\n",
       "</div>"
      ],
      "text/plain": [
       "                 index          mean            sd  hdi_3%       hdi_97%  \\\n",
       "0                 mu_a  2.199000e+00  1.080000e-01   1.957  2.371000e+00   \n",
       "1              sigma_a  3.660000e-01  1.180000e-01   0.246  5.430000e-01   \n",
       "2                 mu_b  6.900000e-02  8.200000e-02   0.000  1.630000e-01   \n",
       "3              sigma_b  3.320000e+00  1.257000e+00   1.225  4.621000e+00   \n",
       "4                 mu_c  1.000000e-03  1.200000e-02   0.000  1.000000e-03   \n",
       "..                 ...           ...           ...     ...           ...   \n",
       "74   Catalogue_Dist[7]  2.138945e+15  2.489190e+17   0.000  3.177711e+03   \n",
       "75   Catalogue_Dist[8]  8.484262e+11  8.972455e+13   0.000  2.788712e+07   \n",
       "76   Catalogue_Dist[9]  3.500000e-02  5.600000e-02   0.000  1.500000e-01   \n",
       "77  Catalogue_Dist[10]  5.370000e-01  3.300000e-01   0.000  9.740000e-01   \n",
       "78                 eps  4.130000e-01  1.100000e-02   0.402  4.340000e-01   \n",
       "\n",
       "       mcse_mean       mcse_sd  ess_mean   ess_sd  ess_bulk  ess_tail  r_hat  \n",
       "0   2.800000e-02  2.000000e-02      15.0     15.0      21.0      82.0   1.34  \n",
       "1   6.100000e-02  4.700000e-02       4.0      4.0       3.0      17.0   1.73  \n",
       "2   4.000000e-03  3.000000e-03     481.0    481.0      21.0      59.0   1.27  \n",
       "3   5.720000e-01  4.320000e-01       5.0      5.0       5.0     172.0   1.32  \n",
       "4   0.000000e+00  0.000000e+00   10121.0  10121.0       7.0      76.0   1.22  \n",
       "..           ...           ...       ...      ...       ...       ...    ...  \n",
       "74  2.052135e+15  1.451107e+15   14713.0  14713.0       9.0      38.0   1.22  \n",
       "75  6.547557e+11  4.629894e+11   18779.0  18779.0       4.0      28.0   1.41  \n",
       "76  7.000000e-03  6.000000e-03      58.0     52.0      27.0      53.0   1.17  \n",
       "77  1.530000e-01  1.150000e-01       5.0      5.0       5.0      25.0   1.30  \n",
       "78  6.000000e-03  4.000000e-03       3.0      3.0       4.0      18.0   1.51  \n",
       "\n",
       "[79 rows x 12 columns]"
      ]
     },
     "execution_count": 21,
     "metadata": {},
     "output_type": "execute_result"
    }
   ],
   "source": [
    "result"
   ]
  },
  {
   "cell_type": "code",
   "execution_count": 22,
   "metadata": {},
   "outputs": [],
   "source": [
    "#Extracting Model Coefficient\n",
    "result['index1']=result['index'].str.findall(\"\\\\d+\")  #\n",
    "result['index2']=result['index'].str.findall((\"\\\\w+\") )\n",
    "result['Parameters']=result['index2'].apply(lambda x: x[0])\n",
    "result['Encoding_PPG']=result['index1'].apply(lambda x: x[0] if len(x)>0 else -999)\n",
    "result['Encoding_PPG']=result['Encoding_PPG'].astype(int)"
   ]
  },
  {
   "cell_type": "code",
   "execution_count": 23,
   "metadata": {},
   "outputs": [],
   "source": [
    "model_coeff=tmp_map.merge(result[['Parameters','mean','sd','Encoding_PPG']],on=['Encoding_PPG'],how='left')"
   ]
  },
  {
   "cell_type": "code",
   "execution_count": 24,
   "metadata": {},
   "outputs": [
    {
     "data": {
      "text/html": [
       "<div>\n",
       "<style scoped>\n",
       "    .dataframe tbody tr th:only-of-type {\n",
       "        vertical-align: middle;\n",
       "    }\n",
       "\n",
       "    .dataframe tbody tr th {\n",
       "        vertical-align: top;\n",
       "    }\n",
       "\n",
       "    .dataframe thead th {\n",
       "        text-align: right;\n",
       "    }\n",
       "</style>\n",
       "<table border=\"1\" class=\"dataframe\">\n",
       "  <thead>\n",
       "    <tr style=\"text-align: right;\">\n",
       "      <th></th>\n",
       "      <th>PPG_Item_No</th>\n",
       "      <th>PPG_Description</th>\n",
       "      <th>Encoding_PPG</th>\n",
       "      <th>Parameters</th>\n",
       "      <th>mean</th>\n",
       "      <th>sd</th>\n",
       "    </tr>\n",
       "  </thead>\n",
       "  <tbody>\n",
       "    <tr>\n",
       "      <th>0</th>\n",
       "      <td>ITEM101_Lenta</td>\n",
       "      <td>A.Korkunov 110g</td>\n",
       "      <td>0</td>\n",
       "      <td>Intercept</td>\n",
       "      <td>5.470</td>\n",
       "      <td>0.298</td>\n",
       "    </tr>\n",
       "    <tr>\n",
       "      <th>1</th>\n",
       "      <td>ITEM101_Lenta</td>\n",
       "      <td>A.Korkunov 110g</td>\n",
       "      <td>0</td>\n",
       "      <td>wk_sold_median_base_price_byppg_log</td>\n",
       "      <td>-0.059</td>\n",
       "      <td>0.052</td>\n",
       "    </tr>\n",
       "    <tr>\n",
       "      <th>2</th>\n",
       "      <td>ITEM101_Lenta</td>\n",
       "      <td>A.Korkunov 110g</td>\n",
       "      <td>0</td>\n",
       "      <td>tpr_discount_byppg</td>\n",
       "      <td>0.024</td>\n",
       "      <td>0.004</td>\n",
       "    </tr>\n",
       "    <tr>\n",
       "      <th>3</th>\n",
       "      <td>ITEM101_Lenta</td>\n",
       "      <td>A.Korkunov 110g</td>\n",
       "      <td>0</td>\n",
       "      <td>ACV_Selling</td>\n",
       "      <td>0.031</td>\n",
       "      <td>0.002</td>\n",
       "    </tr>\n",
       "    <tr>\n",
       "      <th>4</th>\n",
       "      <td>ITEM101_Lenta</td>\n",
       "      <td>A.Korkunov 110g</td>\n",
       "      <td>0</td>\n",
       "      <td>SI</td>\n",
       "      <td>0.216</td>\n",
       "      <td>0.024</td>\n",
       "    </tr>\n",
       "    <tr>\n",
       "      <th>...</th>\n",
       "      <td>...</td>\n",
       "      <td>...</td>\n",
       "      <td>...</td>\n",
       "      <td>...</td>\n",
       "      <td>...</td>\n",
       "      <td>...</td>\n",
       "    </tr>\n",
       "    <tr>\n",
       "      <th>61</th>\n",
       "      <td>ITEM202_Lenta</td>\n",
       "      <td>Orbit XXL</td>\n",
       "      <td>10</td>\n",
       "      <td>wk_sold_median_base_price_byppg_log</td>\n",
       "      <td>-0.357</td>\n",
       "      <td>0.211</td>\n",
       "    </tr>\n",
       "    <tr>\n",
       "      <th>62</th>\n",
       "      <td>ITEM202_Lenta</td>\n",
       "      <td>Orbit XXL</td>\n",
       "      <td>10</td>\n",
       "      <td>tpr_discount_byppg</td>\n",
       "      <td>0.011</td>\n",
       "      <td>0.013</td>\n",
       "    </tr>\n",
       "    <tr>\n",
       "      <th>63</th>\n",
       "      <td>ITEM202_Lenta</td>\n",
       "      <td>Orbit XXL</td>\n",
       "      <td>10</td>\n",
       "      <td>ACV_Selling</td>\n",
       "      <td>0.010</td>\n",
       "      <td>0.014</td>\n",
       "    </tr>\n",
       "    <tr>\n",
       "      <th>64</th>\n",
       "      <td>ITEM202_Lenta</td>\n",
       "      <td>Orbit XXL</td>\n",
       "      <td>10</td>\n",
       "      <td>SI</td>\n",
       "      <td>0.767</td>\n",
       "      <td>0.272</td>\n",
       "    </tr>\n",
       "    <tr>\n",
       "      <th>65</th>\n",
       "      <td>ITEM202_Lenta</td>\n",
       "      <td>Orbit XXL</td>\n",
       "      <td>10</td>\n",
       "      <td>Catalogue_Dist</td>\n",
       "      <td>0.537</td>\n",
       "      <td>0.330</td>\n",
       "    </tr>\n",
       "  </tbody>\n",
       "</table>\n",
       "<p>66 rows × 6 columns</p>\n",
       "</div>"
      ],
      "text/plain": [
       "      PPG_Item_No  PPG_Description  Encoding_PPG  \\\n",
       "0   ITEM101_Lenta  A.Korkunov 110g             0   \n",
       "1   ITEM101_Lenta  A.Korkunov 110g             0   \n",
       "2   ITEM101_Lenta  A.Korkunov 110g             0   \n",
       "3   ITEM101_Lenta  A.Korkunov 110g             0   \n",
       "4   ITEM101_Lenta  A.Korkunov 110g             0   \n",
       "..            ...              ...           ...   \n",
       "61  ITEM202_Lenta        Orbit XXL            10   \n",
       "62  ITEM202_Lenta        Orbit XXL            10   \n",
       "63  ITEM202_Lenta        Orbit XXL            10   \n",
       "64  ITEM202_Lenta        Orbit XXL            10   \n",
       "65  ITEM202_Lenta        Orbit XXL            10   \n",
       "\n",
       "                             Parameters   mean     sd  \n",
       "0                             Intercept  5.470  0.298  \n",
       "1   wk_sold_median_base_price_byppg_log -0.059  0.052  \n",
       "2                    tpr_discount_byppg  0.024  0.004  \n",
       "3                           ACV_Selling  0.031  0.002  \n",
       "4                                    SI  0.216  0.024  \n",
       "..                                  ...    ...    ...  \n",
       "61  wk_sold_median_base_price_byppg_log -0.357  0.211  \n",
       "62                   tpr_discount_byppg  0.011  0.013  \n",
       "63                          ACV_Selling  0.010  0.014  \n",
       "64                                   SI  0.767  0.272  \n",
       "65                       Catalogue_Dist  0.537  0.330  \n",
       "\n",
       "[66 rows x 6 columns]"
      ]
     },
     "execution_count": 24,
     "metadata": {},
     "output_type": "execute_result"
    }
   ],
   "source": [
    "if rev==1:\n",
    "    model_base_data[reverse_col]=(-1)*model_base_data[reverse_col]\n",
    "    model_coeff['mean']=np.where(model_coeff['Parameters'].isin(reverse_col),(-1)*model_coeff['mean'],model_coeff['mean'])\n",
    "    \n",
    "model_coeff"
   ]
  },
  {
   "cell_type": "code",
   "execution_count": 25,
   "metadata": {},
   "outputs": [
    {
     "data": {
      "text/plain": [
       "1"
      ]
     },
     "execution_count": 25,
     "metadata": {},
     "output_type": "execute_result"
    }
   ],
   "source": [
    "rev"
   ]
  },
  {
   "cell_type": "code",
   "execution_count": null,
   "metadata": {},
   "outputs": [],
   "source": []
  },
  {
   "cell_type": "code",
   "execution_count": 26,
   "metadata": {},
   "outputs": [],
   "source": [
    "#prediction\n",
    "def predict_sales(coeffs,data):\n",
    "    data.reset_index(inplace=True,drop=True)\n",
    "    data['pred_vol_log']=0\n",
    "    for i in coeffs['Parameters'].unique():\n",
    "        a=coeffs.loc[(coeffs['Parameters']==i),'mean']\n",
    "        a=a.values\n",
    "        if(i==\"Intercept\"):\n",
    "            data['pred_vol_log'] = data['pred_vol_log'] + a\n",
    "        else:\n",
    "            data['pred_vol_log'] = data['pred_vol_log']+ data[i]* a \n",
    "    data['pred_vol'] = np.exp(data['pred_vol_log'])\n",
    "    return(data)\n",
    "\n",
    "def rsq_mape(y,Predicted):\n",
    "    SSR=(y-Predicted)**2\n",
    "    SST=(y-np.mean(y))**2\n",
    "    SSReg=(Predicted-np.mean(y))**2\n",
    "    #Rsq1=SSReg.sum()/SST.sum() \n",
    "    Rsq2=1-SSR.sum()/SST.sum()\n",
    "    a1=np.sum(abs(y - Predicted)*y)\n",
    "    a2=np.sum(y*y)\n",
    "    mape=a1/a2\n",
    "    return(Rsq2,mape)"
   ]
  },
  {
   "cell_type": "code",
   "execution_count": 27,
   "metadata": {},
   "outputs": [
    {
     "data": {
      "text/plain": [
       "Index(['PPG_Segment', 'PPG_MFG', 'PPG_Item_No', 'PPG_Description', 'Date',\n",
       "       'wk_sold_median_base_price_byppg_log', 'tpr_discount_byppg',\n",
       "       'ACV_Selling', 'SI', 'Catalogue_Dist', 'wk_sold_qty_byppg_log',\n",
       "       'wk_sold_qty_byppg'],\n",
       "      dtype='object')"
      ]
     },
     "execution_count": 27,
     "metadata": {},
     "output_type": "execute_result"
    }
   ],
   "source": [
    "model_base_data.columns"
   ]
  },
  {
   "cell_type": "code",
   "execution_count": 28,
   "metadata": {},
   "outputs": [
    {
     "name": "stdout",
     "output_type": "stream",
     "text": [
      "ITEM101_Lenta\n",
      "ITEM102_Lenta\n",
      "ITEM103_Lenta\n",
      "ITEM105_Lenta\n",
      "ITEM108_Lenta\n",
      "ITEM109_Lenta\n",
      "ITEM110_Lenta\n",
      "ITEM113_Lenta\n",
      "ITEM114_Lenta\n",
      "ITEM201_Lenta\n",
      "ITEM202_Lenta\n"
     ]
    }
   ],
   "source": [
    "#mape,rsq,pred\n",
    "model_base_data['wk_sold_qty_byppg']=np.exp(model_base_data['wk_sold_qty_byppg_log'])\n",
    "model_base_data.columns\n",
    "model_base_data.reset_index(drop=True,inplace=True)\n",
    "model_base_data1=pd.DataFrame()\n",
    "for ppg in model_base_data['PPG_Item_No'].unique():\n",
    "    print(ppg)\n",
    "    data=model_base_data.loc[model_base_data[\"PPG_Item_No\"]==ppg,].reset_index(drop=True)\n",
    "    \n",
    "    coeffs=model_coeff.loc[model_coeff[\"PPG_Item_No\"]==ppg,\n",
    "                                  ['Parameters','mean']].reset_index(drop=True)\n",
    "    \n",
    "    #print(coeffs)\n",
    "    cols=list(coeffs['Parameters'].unique())\n",
    "    cols.remove('Intercept')\n",
    "    tmp=data[cols]      \n",
    "    tmp=predict_sales(coeffs,tmp)\n",
    "    \n",
    "    #rsq2=1-sum(error)/sum(y-mean(y))^2\n",
    "    Rsq2,mape=rsq_mape(data['wk_sold_qty_byppg'],tmp['pred_vol'])\n",
    "    #print(Rsq2,mape)\n",
    "    \n",
    "    data['pred_vol']=tmp['pred_vol']\n",
    "    data['Rsq']=Rsq2\n",
    "    data['Mape']=mape\n",
    "    model_base_data1=model_base_data1.append(data)\n",
    "\n",
    "\n",
    "model_base_data1.reset_index(drop=True,inplace=True)\n",
    "    \n",
    "    \n",
    "    \n",
    "\n",
    "    \n",
    "    "
   ]
  },
  {
   "cell_type": "code",
   "execution_count": 29,
   "metadata": {},
   "outputs": [
    {
     "data": {
      "text/html": [
       "<div>\n",
       "<style scoped>\n",
       "    .dataframe tbody tr th:only-of-type {\n",
       "        vertical-align: middle;\n",
       "    }\n",
       "\n",
       "    .dataframe tbody tr th {\n",
       "        vertical-align: top;\n",
       "    }\n",
       "\n",
       "    .dataframe thead th {\n",
       "        text-align: right;\n",
       "    }\n",
       "</style>\n",
       "<table border=\"1\" class=\"dataframe\">\n",
       "  <thead>\n",
       "    <tr style=\"text-align: right;\">\n",
       "      <th></th>\n",
       "      <th>PPG_Description</th>\n",
       "      <th>Rsq</th>\n",
       "      <th>Mape</th>\n",
       "    </tr>\n",
       "  </thead>\n",
       "  <tbody>\n",
       "    <tr>\n",
       "      <th>0</th>\n",
       "      <td>A.Korkunov 110g</td>\n",
       "      <td>0.687754</td>\n",
       "      <td>0.464174</td>\n",
       "    </tr>\n",
       "    <tr>\n",
       "      <th>143</th>\n",
       "      <td>A.Korkunov 192g</td>\n",
       "      <td>0.582170</td>\n",
       "      <td>0.441776</td>\n",
       "    </tr>\n",
       "    <tr>\n",
       "      <th>286</th>\n",
       "      <td>Big Bars</td>\n",
       "      <td>0.735913</td>\n",
       "      <td>0.248342</td>\n",
       "    </tr>\n",
       "    <tr>\n",
       "      <th>429</th>\n",
       "      <td>Loose</td>\n",
       "      <td>0.501860</td>\n",
       "      <td>0.417169</td>\n",
       "    </tr>\n",
       "    <tr>\n",
       "      <th>572</th>\n",
       "      <td>M&amp;M 360g</td>\n",
       "      <td>0.661387</td>\n",
       "      <td>0.298287</td>\n",
       "    </tr>\n",
       "    <tr>\n",
       "      <th>715</th>\n",
       "      <td>M&amp;M 45g</td>\n",
       "      <td>0.769506</td>\n",
       "      <td>0.139539</td>\n",
       "    </tr>\n",
       "    <tr>\n",
       "      <th>858</th>\n",
       "      <td>MW Std</td>\n",
       "      <td>0.565075</td>\n",
       "      <td>0.199974</td>\n",
       "    </tr>\n",
       "    <tr>\n",
       "      <th>1001</th>\n",
       "      <td>Snickers Crisp Trio</td>\n",
       "      <td>-0.320823</td>\n",
       "      <td>0.489685</td>\n",
       "    </tr>\n",
       "    <tr>\n",
       "      <th>1071</th>\n",
       "      <td>Std Bars</td>\n",
       "      <td>0.285104</td>\n",
       "      <td>0.247564</td>\n",
       "    </tr>\n",
       "    <tr>\n",
       "      <th>1214</th>\n",
       "      <td>Orbit OTC</td>\n",
       "      <td>0.352965</td>\n",
       "      <td>0.304443</td>\n",
       "    </tr>\n",
       "    <tr>\n",
       "      <th>1352</th>\n",
       "      <td>Orbit XXL</td>\n",
       "      <td>0.439363</td>\n",
       "      <td>0.229671</td>\n",
       "    </tr>\n",
       "  </tbody>\n",
       "</table>\n",
       "</div>"
      ],
      "text/plain": [
       "          PPG_Description       Rsq      Mape\n",
       "0         A.Korkunov 110g  0.687754  0.464174\n",
       "143       A.Korkunov 192g  0.582170  0.441776\n",
       "286              Big Bars  0.735913  0.248342\n",
       "429                 Loose  0.501860  0.417169\n",
       "572              M&M 360g  0.661387  0.298287\n",
       "715               M&M 45g  0.769506  0.139539\n",
       "858                MW Std  0.565075  0.199974\n",
       "1001  Snickers Crisp Trio -0.320823  0.489685\n",
       "1071             Std Bars  0.285104  0.247564\n",
       "1214            Orbit OTC  0.352965  0.304443\n",
       "1352            Orbit XXL  0.439363  0.229671"
      ]
     },
     "execution_count": 29,
     "metadata": {},
     "output_type": "execute_result"
    }
   ],
   "source": [
    "model_base_data1[['PPG_Description','Rsq','Mape']].drop_duplicates()"
   ]
  },
  {
   "cell_type": "code",
   "execution_count": 30,
   "metadata": {},
   "outputs": [],
   "source": [
    "#Export\n",
    "path=os.path.join(parent_dir,'Modelling_Results',slct_retailer,'Pooled_Model_Results')\n",
    "os.makedirs(path, exist_ok=True)\n",
    "with pd.ExcelWriter(path+'/Pooled_Model_Bayesian_Result_all_ppg_log_normal_updated.xlsx') as writer1:\n",
    "    model_coeff.to_excel(writer1, sheet_name = 'coeff', index = False)\n",
    "    model_base_data1.to_excel(writer1, sheet_name = 'base', index = False)\n",
    "\n"
   ]
  },
  {
   "cell_type": "code",
   "execution_count": 31,
   "metadata": {},
   "outputs": [
    {
     "data": {
      "text/html": [
       "<div>\n",
       "<style scoped>\n",
       "    .dataframe tbody tr th:only-of-type {\n",
       "        vertical-align: middle;\n",
       "    }\n",
       "\n",
       "    .dataframe tbody tr th {\n",
       "        vertical-align: top;\n",
       "    }\n",
       "\n",
       "    .dataframe thead th {\n",
       "        text-align: right;\n",
       "    }\n",
       "</style>\n",
       "<table border=\"1\" class=\"dataframe\">\n",
       "  <thead>\n",
       "    <tr style=\"text-align: right;\">\n",
       "      <th></th>\n",
       "      <th>PPG_Segment</th>\n",
       "      <th>PPG_MFG</th>\n",
       "      <th>PPG_Item_No</th>\n",
       "      <th>PPG_Description</th>\n",
       "      <th>Date</th>\n",
       "      <th>wk_sold_median_base_price_byppg_log</th>\n",
       "      <th>tpr_discount_byppg</th>\n",
       "      <th>ACV_Selling</th>\n",
       "      <th>SI</th>\n",
       "      <th>Catalogue_Dist</th>\n",
       "      <th>wk_sold_qty_byppg_log</th>\n",
       "      <th>wk_sold_qty_byppg</th>\n",
       "    </tr>\n",
       "  </thead>\n",
       "  <tbody>\n",
       "    <tr>\n",
       "      <th>0</th>\n",
       "      <td>CHOCO</td>\n",
       "      <td>Mars</td>\n",
       "      <td>ITEM101_Lenta</td>\n",
       "      <td>A.Korkunov 110g</td>\n",
       "      <td>2017-12-31</td>\n",
       "      <td>4.717361</td>\n",
       "      <td>0.0</td>\n",
       "      <td>69.696970</td>\n",
       "      <td>1.572075</td>\n",
       "      <td>0.0</td>\n",
       "      <td>8.782630</td>\n",
       "      <td>6520.0</td>\n",
       "    </tr>\n",
       "    <tr>\n",
       "      <th>1</th>\n",
       "      <td>CHOCO</td>\n",
       "      <td>Mars</td>\n",
       "      <td>ITEM101_Lenta</td>\n",
       "      <td>A.Korkunov 110g</td>\n",
       "      <td>2018-01-07</td>\n",
       "      <td>4.717379</td>\n",
       "      <td>0.0</td>\n",
       "      <td>58.008658</td>\n",
       "      <td>0.521117</td>\n",
       "      <td>0.0</td>\n",
       "      <td>6.994850</td>\n",
       "      <td>1091.0</td>\n",
       "    </tr>\n",
       "    <tr>\n",
       "      <th>2</th>\n",
       "      <td>CHOCO</td>\n",
       "      <td>Mars</td>\n",
       "      <td>ITEM101_Lenta</td>\n",
       "      <td>A.Korkunov 110g</td>\n",
       "      <td>2018-01-14</td>\n",
       "      <td>4.721366</td>\n",
       "      <td>0.0</td>\n",
       "      <td>49.783550</td>\n",
       "      <td>0.414287</td>\n",
       "      <td>0.0</td>\n",
       "      <td>6.723832</td>\n",
       "      <td>832.0</td>\n",
       "    </tr>\n",
       "    <tr>\n",
       "      <th>3</th>\n",
       "      <td>CHOCO</td>\n",
       "      <td>Mars</td>\n",
       "      <td>ITEM101_Lenta</td>\n",
       "      <td>A.Korkunov 110g</td>\n",
       "      <td>2018-01-21</td>\n",
       "      <td>4.722531</td>\n",
       "      <td>0.0</td>\n",
       "      <td>49.783550</td>\n",
       "      <td>0.403632</td>\n",
       "      <td>0.0</td>\n",
       "      <td>6.368187</td>\n",
       "      <td>583.0</td>\n",
       "    </tr>\n",
       "    <tr>\n",
       "      <th>4</th>\n",
       "      <td>CHOCO</td>\n",
       "      <td>Mars</td>\n",
       "      <td>ITEM101_Lenta</td>\n",
       "      <td>A.Korkunov 110g</td>\n",
       "      <td>2018-01-28</td>\n",
       "      <td>5.048338</td>\n",
       "      <td>0.0</td>\n",
       "      <td>45.258621</td>\n",
       "      <td>0.416327</td>\n",
       "      <td>0.0</td>\n",
       "      <td>6.452049</td>\n",
       "      <td>634.0</td>\n",
       "    </tr>\n",
       "  </tbody>\n",
       "</table>\n",
       "</div>"
      ],
      "text/plain": [
       "  PPG_Segment PPG_MFG    PPG_Item_No  PPG_Description       Date  \\\n",
       "0       CHOCO    Mars  ITEM101_Lenta  A.Korkunov 110g 2017-12-31   \n",
       "1       CHOCO    Mars  ITEM101_Lenta  A.Korkunov 110g 2018-01-07   \n",
       "2       CHOCO    Mars  ITEM101_Lenta  A.Korkunov 110g 2018-01-14   \n",
       "3       CHOCO    Mars  ITEM101_Lenta  A.Korkunov 110g 2018-01-21   \n",
       "4       CHOCO    Mars  ITEM101_Lenta  A.Korkunov 110g 2018-01-28   \n",
       "\n",
       "   wk_sold_median_base_price_byppg_log  tpr_discount_byppg  ACV_Selling  \\\n",
       "0                             4.717361                 0.0    69.696970   \n",
       "1                             4.717379                 0.0    58.008658   \n",
       "2                             4.721366                 0.0    49.783550   \n",
       "3                             4.722531                 0.0    49.783550   \n",
       "4                             5.048338                 0.0    45.258621   \n",
       "\n",
       "         SI  Catalogue_Dist  wk_sold_qty_byppg_log  wk_sold_qty_byppg  \n",
       "0  1.572075             0.0               8.782630             6520.0  \n",
       "1  0.521117             0.0               6.994850             1091.0  \n",
       "2  0.414287             0.0               6.723832              832.0  \n",
       "3  0.403632             0.0               6.368187              583.0  \n",
       "4  0.416327             0.0               6.452049              634.0  "
      ]
     },
     "execution_count": 31,
     "metadata": {},
     "output_type": "execute_result"
    }
   ],
   "source": [
    "model_base_data.head()"
   ]
  },
  {
   "cell_type": "code",
   "execution_count": null,
   "metadata": {},
   "outputs": [],
   "source": []
  },
  {
   "cell_type": "code",
   "execution_count": null,
   "metadata": {},
   "outputs": [],
   "source": []
  }
 ],
 "metadata": {
  "kernelspec": {
   "display_name": "Python 3",
   "language": "python",
   "name": "python3"
  },
  "language_info": {
   "codemirror_mode": {
    "name": "ipython",
    "version": 3
   },
   "file_extension": ".py",
   "mimetype": "text/x-python",
   "name": "python",
   "nbconvert_exporter": "python",
   "pygments_lexer": "ipython3",
   "version": "3.7.3"
  }
 },
 "nbformat": 4,
 "nbformat_minor": 4
}
